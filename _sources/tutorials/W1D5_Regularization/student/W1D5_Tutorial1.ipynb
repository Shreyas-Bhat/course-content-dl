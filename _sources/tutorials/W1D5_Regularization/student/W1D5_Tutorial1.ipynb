{
 "cells": [
  {
   "cell_type": "markdown",
   "metadata": {
    "colab_type": "text",
    "id": "view-in-github"
   },
   "source": [
    "<a href=\"https://colab.research.google.com/github/NeuromatchAcademy/course-content-dl/blob/main/tutorials/W1D5_Regularization/student/W1D5_Tutorial1.ipynb\" target=\"_blank\"><img alt=\"Open In Colab\" src=\"https://colab.research.google.com/assets/colab-badge.svg\"/></a>"
   ]
  },
  {
   "cell_type": "markdown",
   "metadata": {},
   "source": [
    "# Tutorial 1: Regularization techniques part 1\n",
    "**Week 1, Day 5: Regularization**\n",
    "\n",
    "**By Neuromatch Academy**\n",
    "\n",
    "__Content creators:__ Ravi Teja Konkimalla, Mohitrajhu Lingan Kumaraian, Kevin Machado Gamboa, Kelson Shilling-Scrivo, Lyle Ungar\n",
    "\n",
    "__Content reviewers:__ Piyush Chauhan, Kelson Shilling-Scrivo\n",
    "\n",
    "__Content editors:__ Roberto Guidotti, Spiros Chavlis\n",
    "\n",
    "__Production editors:__ Saeed Salehi, Spiros Chavlis"
   ]
  },
  {
   "cell_type": "markdown",
   "metadata": {},
   "source": [
    "**Our 2021 Sponsors, including Presenting Sponsor Facebook Reality Labs**\n",
    "\n",
    "<p align='center'><img src='https://github.com/NeuromatchAcademy/widgets/blob/master/sponsors.png?raw=True'/></p>"
   ]
  },
  {
   "cell_type": "markdown",
   "metadata": {},
   "source": [
    "---\n",
    "# Tutorial Objectives\n",
    "\n",
    "1. Big ANNs are efficient universal approximators due to their adaptive basis functions\n",
    "2. ANNs memorize some but generalize well\n",
    "3. Regularization as shrinkage of overparameterized models: early stopping "
   ]
  },
  {
   "cell_type": "code",
   "execution_count": null,
   "metadata": {
    "cellView": "form",
    "colab": {
     "base_uri": "https://localhost:8080/",
     "height": 590
    },
    "outputId": "70d2fc45-e374-4d6c-b0ad-8adb1b98ace3",
    "tags": [
     "hide-input"
    ]
   },
   "outputs": [],
   "source": [
    "#@markdown Tutorial slides\n",
    "\n",
    "#@markdown\n",
    "# you should link the slides for all tutorial videos here (we will store pdfs on osf)\n",
    "\n",
    "from IPython.display import HTML\n",
    "HTML('<iframe src=\"https://docs.google.com/presentation/d/1N9aguIPiBSjzo0ToqPi5uwwG8ChY6_E3/embed?start=false&loop=false&delayms=3000\" frameborder=\"0\" width=\"960\" height=\"569\" allowfullscreen=\"true\" mozallowfullscreen=\"true\" webkitallowfullscreen=\"true\"></iframe>')"
   ]
  },
  {
   "cell_type": "markdown",
   "metadata": {},
   "source": [
    "---\n",
    "# Setup\n",
    "Note that some of the code for today can take up to an hour to run. We have therefore \"hidden\" the code and shown the resulting outputs.\n"
   ]
  },
  {
   "cell_type": "code",
   "execution_count": null,
   "metadata": {},
   "outputs": [],
   "source": [
    "# Imports\n",
    "import time\n",
    "import copy\n",
    "import torch\n",
    "import pathlib\n",
    "import random\n",
    "\n",
    "import numpy as np\n",
    "import torch.nn as nn\n",
    "import torch.optim as optim\n",
    "import torch.nn.functional as F\n",
    "import matplotlib.pyplot as plt\n",
    "import matplotlib.animation as animation\n",
    "\n",
    "from tqdm.auto import tqdm\n",
    "from __future__ import print_function\n",
    "from IPython.display import HTML, display\n",
    "from torchvision import datasets, transforms\n",
    "from torchvision.datasets import ImageFolder"
   ]
  },
  {
   "cell_type": "markdown",
   "metadata": {},
   "source": [
    "##  Figure Settings\n"
   ]
  },
  {
   "cell_type": "code",
   "execution_count": null,
   "metadata": {
    "cellView": "form",
    "tags": [
     "hide-input"
    ]
   },
   "outputs": [],
   "source": [
    "# @title Figure Settings\n",
    "import ipywidgets as widgets\n",
    "%matplotlib inline\n",
    "%config InlineBackend.figure_format = 'retina'\n",
    "plt.style.use(\"https://raw.githubusercontent.com/NeuromatchAcademy/content-creation/main/nma.mplstyle\")"
   ]
  },
  {
   "cell_type": "markdown",
   "metadata": {},
   "source": [
    "##  Loading Animal Faces data\n"
   ]
  },
  {
   "cell_type": "code",
   "execution_count": null,
   "metadata": {
    "cellView": "form",
    "tags": [
     "hide-input"
    ]
   },
   "outputs": [],
   "source": [
    "# @title Loading Animal Faces data\n",
    "%%capture\n",
    "!rm -r AnimalFaces32x32/\n",
    "!git clone https://github.com/arashash/AnimalFaces32x32\n",
    "!rm -r afhq/\n",
    "!unzip ./AnimalFaces32x32/afhq_32x32.zip"
   ]
  },
  {
   "cell_type": "markdown",
   "metadata": {},
   "source": [
    "##  Loading Animal Faces Randomized data\n"
   ]
  },
  {
   "cell_type": "code",
   "execution_count": null,
   "metadata": {
    "cellView": "form",
    "tags": [
     "hide-input"
    ]
   },
   "outputs": [],
   "source": [
    "# @title Loading Animal Faces Randomized data\n",
    "%%capture\n",
    "!rm -r Animal_faces_random/\n",
    "!git clone https://github.com/Ravi3191/Animal_faces_random.git\n",
    "!rm -r afhq_random_32x32/\n",
    "!unzip ./Animal_faces_random/afhq_random_32x32.zip\n",
    "!rm -r afhq_10_32x32/\n",
    "!unzip ./Animal_faces_random/afhq_10_32x32.zip"
   ]
  },
  {
   "cell_type": "markdown",
   "metadata": {},
   "source": [
    "##  Plotting functions\n"
   ]
  },
  {
   "cell_type": "code",
   "execution_count": null,
   "metadata": {
    "cellView": "form",
    "tags": [
     "hide-input"
    ]
   },
   "outputs": [],
   "source": [
    "# @title Plotting functions\n",
    "def imshow(img):\n",
    "  img = img / 2 + 0.5     # unnormalize\n",
    "  npimg = img.numpy()\n",
    "  plt.imshow(np.transpose(npimg, (1, 2, 0)))\n",
    "  plt.axis(False)\n",
    "  plt.show()\n",
    "\n",
    "\n",
    "def plot_weights(norm, labels, ws, title='Weight Size Measurement'):\n",
    "  plt.figure(figsize=[8, 6])\n",
    "  plt.title(title)\n",
    "  plt.ylabel('Frobenius Norm Value')\n",
    "  plt.xlabel('Model Layers')\n",
    "  plt.bar(labels, ws)\n",
    "  plt.axhline(y=norm,\n",
    "              linewidth=1,\n",
    "              color='r',\n",
    "              ls='--',\n",
    "              label='Total Model F-Norm')\n",
    "  plt.legend()\n",
    "  plt.show()\n",
    "\n",
    "\n",
    "def early_stop_plot(train_acc_earlystop, val_acc_earlystop, best_epoch):\n",
    "  plt.figure(figsize=(8, 6))\n",
    "  plt.plot(val_acc_earlystop,label='Val - Early',c='red',ls = 'dashed')\n",
    "  plt.plot(train_acc_earlystop,label='Train - Early',c='red',ls = 'solid')\n",
    "  plt.axvline(x=best_epoch, c='green', ls='dashed',\n",
    "              label='Epoch for Max Val Accuracy')\n",
    "  plt.title('Early Stopping')\n",
    "  plt.ylabel('Accuracy (%)')\n",
    "  plt.xlabel('Epoch')\n",
    "  plt.legend()\n",
    "  plt.show()"
   ]
  },
  {
   "cell_type": "markdown",
   "metadata": {},
   "source": [
    "##  Seeding for Reproducibility\n"
   ]
  },
  {
   "cell_type": "code",
   "execution_count": null,
   "metadata": {
    "cellView": "form",
    "colab": {
     "base_uri": "https://localhost:8080/"
    },
    "outputId": "dac7a88c-ef22-4ed6-a8ae-92708bdd609c",
    "tags": [
     "hide-input"
    ]
   },
   "outputs": [],
   "source": [
    "#@title Seeding for Reproducibility\n",
    "def set_seed(seed=None, seed_torch=True):\n",
    "  if seed is None:\n",
    "    seed = np.random.choice(2 ** 32)\n",
    "  random.seed(seed)\n",
    "  np.random.seed(seed)\n",
    "  if seed_torch:\n",
    "    torch.manual_seed(seed)\n",
    "    torch.cuda.manual_seed_all(seed)\n",
    "    torch.cuda.manual_seed(seed)\n",
    "    torch.backends.cudnn.benchmark = False\n",
    "    torch.backends.cudnn.deterministic = True\n",
    "\n",
    "  print(f'Random seed {seed} has been set.')\n",
    "\n",
    "\n",
    "# In case that `DataLoader` is used\n",
    "def seed_worker(worker_id):\n",
    "  worker_seed = torch.initial_seed() % 2**32\n",
    "  np.random.seed(worker_seed)\n",
    "  random.seed(worker_seed)\n",
    "\n",
    "\n",
    "set_seed(seed=90108, seed_torch=False)"
   ]
  },
  {
   "cell_type": "markdown",
   "metadata": {},
   "source": [
    "##  Set device (GPU or CPU). Execute `set_device()`\n"
   ]
  },
  {
   "cell_type": "code",
   "execution_count": null,
   "metadata": {
    "cellView": "form",
    "colab": {
     "base_uri": "https://localhost:8080/",
     "height": 52
    },
    "outputId": "b2bceaec-9211-4f5b-b574-01c49efc92e2",
    "tags": [
     "hide-input"
    ]
   },
   "outputs": [],
   "source": [
    "#@title Set device (GPU or CPU). Execute `set_device()`\n",
    "\n",
    "# inform the user if the notebook uses GPU or CPU.\n",
    "\n",
    "def set_device():\n",
    "  device = \"cuda\" if torch.cuda.is_available() else \"cpu\"\n",
    "  if device != \"cuda\":\n",
    "    print(\"WARNING: For this notebook to perform best, \"\n",
    "        \"if possible, in the menu under `Runtime` -> \"\n",
    "        \"`Change runtime type.`  select `GPU` \")\n",
    "  else:\n",
    "    print(\"GPU is enabled in this notebook.\")\n",
    "\n",
    "  return device\n",
    "\n",
    "\n",
    "set_device()"
   ]
  },
  {
   "cell_type": "markdown",
   "metadata": {},
   "source": [
    "**Ensure you're running a GPU notebook:**\n",
    "From \"Runtime\" in the drop-down menu above, click \"Change runtime type\". Ensure that \"Hardware Accelerator\" says \"GPU\".\n",
    "\n",
    "**Ensure you can save:** From \"File\", click \"Save a copy in Drive\""
   ]
  },
  {
   "cell_type": "code",
   "execution_count": null,
   "metadata": {
    "colab": {
     "base_uri": "https://localhost:8080/"
    },
    "outputId": "a13e85f7-ff9c-463d-c250-212fbe61f9a9"
   },
   "outputs": [],
   "source": [
    "# Seed parameter\n",
    "# Notice that changing this values some results may not be identical\n",
    "# with the solutions\n",
    "SEED = 2021\n",
    "DEVICE = set_device()"
   ]
  },
  {
   "cell_type": "markdown",
   "metadata": {},
   "source": [
    "Let's start the tutorial by defining some functions which we will use frequently today, such as: `AnimalNet`, `train`, `test` and `main`."
   ]
  },
  {
   "cell_type": "code",
   "execution_count": null,
   "metadata": {},
   "outputs": [],
   "source": [
    "# Network Class - Animal Faces\n",
    "class AnimalNet(nn.Module):\n",
    "  def __init__(self):\n",
    "    super(AnimalNet, self).__init__()\n",
    "    self.fc1 = nn.Linear(3 * 32 * 32, 128)\n",
    "    self.fc2 = nn.Linear(128, 32)\n",
    "    self.fc3 = nn.Linear(32, 3)\n",
    "\n",
    "  def forward(self, x):\n",
    "    x = x.view(x.shape[0],-1)\n",
    "    x = F.relu(self.fc1(x))\n",
    "    x = F.relu(self.fc2(x))\n",
    "    x = self.fc3(x)\n",
    "    output = F.log_softmax(x, dim=1)\n",
    "    return output"
   ]
  },
  {
   "cell_type": "markdown",
   "metadata": {},
   "source": [
    "The train function takes in the current model, along with the train_loader and loss function, and updates the parameters for a single pass of the entire dataset. The test function takes in the current model after every epoch and calculates the accuracy on the test dataset.\n"
   ]
  },
  {
   "cell_type": "code",
   "execution_count": null,
   "metadata": {},
   "outputs": [],
   "source": [
    "def train(args, model, device, train_loader, optimizer,\n",
    "          reg_function1=None, reg_function2=None, criterion=F.nll_loss):\n",
    "  \"\"\"\n",
    "  Trains the current inpur model using the data\n",
    "  from Train_loader and Updates parameters for a single pass\n",
    "  \"\"\"\n",
    "  model.train()\n",
    "  for batch_idx, (data, target) in enumerate(train_loader):\n",
    "    data, target = data.to(device), target.to(device)\n",
    "    optimizer.zero_grad()\n",
    "    output = model(data)\n",
    "    if reg_function1 is None:\n",
    "      loss = criterion(output, target)\n",
    "    elif reg_function2 is None:\n",
    "      loss = criterion(output, target)+args['lambda']*reg_function1(model)\n",
    "    else:\n",
    "      loss = criterion(output, target) + args['lambda1']*reg_function1(model) + args['lambda2']*reg_function2(model)\n",
    "    loss.backward()\n",
    "    optimizer.step()\n",
    "\n",
    "\n",
    "def test(model, device, test_loader, criterion=F.nll_loss):\n",
    "  \"\"\"\n",
    "  Tests the current Model\n",
    "  \"\"\"\n",
    "  model.eval()\n",
    "  test_loss = 0\n",
    "  correct = 0\n",
    "  with torch.no_grad():\n",
    "    for data, target in test_loader:\n",
    "      data, target = data.to(device), target.to(device)\n",
    "      output = model(data)\n",
    "      test_loss += criterion(output, target, reduction='sum').item()  # sum up batch loss\n",
    "      pred = output.argmax(dim=1, keepdim=True)  # get the index of the max log-probability\n",
    "      correct += pred.eq(target.view_as(pred)).sum().item()\n",
    "\n",
    "  test_loss /= len(test_loader.dataset)\n",
    "  return 100. * correct / len(test_loader.dataset)\n",
    "\n",
    "\n",
    "def main(args, model, train_loader, val_loader,\n",
    "         reg_function1=None, reg_function2=None):\n",
    "  \"\"\"\n",
    "  Trains the model with train_loader and tests the learned model using val_loader\n",
    "  \"\"\"\n",
    "\n",
    "  use_cuda = not args['no_cuda'] and torch.cuda.is_available()\n",
    "  device = set_device()\n",
    "\n",
    "  model = model.to(device)\n",
    "  optimizer = optim.SGD(model.parameters(), lr=args['lr'],\n",
    "                        momentum=args['momentum'])\n",
    "\n",
    "  val_acc_list, train_acc_list,param_norm_list = [], [], []\n",
    "  for epoch in tqdm(range(args['epochs'])):\n",
    "    train(args, model, device, train_loader, optimizer,\n",
    "          reg_function1=reg_function1, reg_function2=reg_function2)\n",
    "    train_acc = test(model,device,train_loader)\n",
    "    val_acc = test(model,device,val_loader)\n",
    "    param_norm = calculate_frobenius_norm(model)\n",
    "    train_acc_list.append(train_acc)\n",
    "    val_acc_list.append(val_acc)\n",
    "    param_norm_list.append(param_norm)\n",
    "\n",
    "  return val_acc_list, train_acc_list, param_norm_list, model, 0"
   ]
  },
  {
   "cell_type": "markdown",
   "metadata": {},
   "source": [
    "---\n",
    "#Section 1: Regularization is Shrinkage"
   ]
  },
  {
   "cell_type": "markdown",
   "metadata": {},
   "source": [
    "##  Video 1: Introduction to Regularization\n"
   ]
  },
  {
   "cell_type": "code",
   "execution_count": null,
   "metadata": {
    "cellView": "form",
    "colab": {
     "base_uri": "https://localhost:8080/",
     "height": 580,
     "referenced_widgets": [
      "65f54425de224a91a23214c0d523cf86",
      "41a424d9374c49c6b3b1c1c6cd3c222a",
      "b43a5dd8fc8b4c448c5a7ae2816f815b",
      "b9f0956504294dc792824d70d3d911f4",
      "a630c300561f4c668e1aadeee59c5259",
      "a7e77baa9ab24d8ea301b3912f524cd3"
     ]
    },
    "outputId": "1ef35d83-83b5-41e3-c960-4b850f05d425",
    "tags": [
     "remove-input"
    ]
   },
   "outputs": [],
   "source": [
    "#@title Video 1: Introduction to Regularization\n",
    "from ipywidgets import widgets\n",
    "\n",
    "out2 = widgets.Output()\n",
    "with out2:\n",
    "  from IPython.display import IFrame\n",
    "  class BiliVideo(IFrame):\n",
    "      def __init__(self, id, page=1, width=400, height=300, **kwargs):\n",
    "          self.id=id\n",
    "          src = \"https://player.bilibili.com/player.html?bvid={0}&page={1}\".format(id, page)\n",
    "          super(BiliVideo, self).__init__(src, width, height, **kwargs)\n",
    "\n",
    "  video = BiliVideo(id=f\"\", width=730, height=410, fs=1)\n",
    "  print(\"Video available at https://www.bilibili.com/video/{0}\".format(video.id))\n",
    "  display(video)\n",
    "\n",
    "out1 = widgets.Output()\n",
    "with out1:\n",
    "  from IPython.display import YouTubeVideo\n",
    "  video = YouTubeVideo(id=f\"jhQAnIHTR6A\", width=730, height=410, fs=1, rel=0)\n",
    "  print(\"Video available at https://youtube.com/watch?v=\" + video.id)\n",
    "  display(video)\n",
    "\n",
    "out = widgets.Tab([out1, out2])\n",
    "out.set_title(0, 'Youtube')\n",
    "out.set_title(1, 'Bilibili')\n",
    "\n",
    "display(out)"
   ]
  },
  {
   "cell_type": "markdown",
   "metadata": {},
   "source": [
    "A key idea of neural nets, is that they use models that are \"too complex\" - complex enough to fit all the noise in the data. One then needs to \"regularize\" them to make the models fit complex enough, but not too complex. The more complex the model, the better it fits the training data, but if it is too complex, it generalizes less well; it memorizes the training data but is less accurate on future test data."
   ]
  },
  {
   "cell_type": "markdown",
   "metadata": {},
   "source": [
    "##  Video 2: Regularization as Shrinkage\n"
   ]
  },
  {
   "cell_type": "code",
   "execution_count": null,
   "metadata": {
    "cellView": "form",
    "colab": {
     "base_uri": "https://localhost:8080/",
     "height": 597,
     "referenced_widgets": [
      "2e6a56250a7641c2a4cb1d63f3f31818",
      "42369130f5c54b449a86bbc3f26600c7",
      "b61a301d966d4a7bb8db17964ea062a0",
      "caea04f0759d4639b7130c22435b2429",
      "478803cbf53f49c6855bb158f38cccb7",
      "c838c567ddf4495a8cf27ee2ea03c685"
     ]
    },
    "outputId": "8e791421-c013-43e6-a9a4-713b842ba7fe",
    "tags": [
     "remove-input"
    ]
   },
   "outputs": [],
   "source": [
    "#@title Video 2: Regularization as Shrinkage\n",
    "from ipywidgets import widgets\n",
    "\n",
    "out2 = widgets.Output()\n",
    "with out2:\n",
    "  from IPython.display import IFrame\n",
    "  class BiliVideo(IFrame):\n",
    "      def __init__(self, id, page=1, width=400, height=300, **kwargs):\n",
    "          self.id=id\n",
    "          src = \"https://player.bilibili.com/player.html?bvid={0}&page={1}\".format(id, page)\n",
    "          super(BiliVideo, self).__init__(src, width, height, **kwargs)\n",
    "\n",
    "  video = BiliVideo(id=f\"\", width=730, height=410, fs=1)\n",
    "  print(\"Video available at https://www.bilibili.com/video/{0}\".format(video.id))\n",
    "  display(video)\n",
    "\n",
    "out1 = widgets.Output()\n",
    "with out1:\n",
    "  from IPython.display import YouTubeVideo\n",
    "  video = YouTubeVideo(id=f\"mhVbJ74upnQ\", width=730, height=410, fs=1, rel=0)\n",
    "  print(\"Video available at https://youtube.com/watch?v=\" + video.id)\n",
    "  display(video)\n",
    "\n",
    "out = widgets.Tab([out1, out2])\n",
    "out.set_title(0, 'Youtube')\n",
    "out.set_title(1, 'Bilibili')\n",
    "\n",
    "display(out)"
   ]
  },
  {
   "cell_type": "markdown",
   "metadata": {},
   "source": [
    "One way to think about Regularization is to think in terms of the magnitude of the overall weights of the model. A model with big weights can fit more data perfectly, wheras a model with smaller weights tends to underperform on the train set but it can suprisingly do very well on the test set. Having the weights too small can also be an issue an it can then underfit the model.\n",
    "\n",
    "This week we use the sum of Frobenius Norm of all the tensors in the model as a measure of the \"size of the model\"."
   ]
  },
  {
   "cell_type": "markdown",
   "metadata": {},
   "source": [
    "##Coding Exercise 1: Frobenius Norm\n",
    "Before we start, let's define the Frobenius norm, sometimes also called the Euclidean norm of an $m×n$ matrix $A$  as the square root of the sum of the absolute squares of its elements. \n",
    "\\begin{equation}\n",
    "||A||_F= \\sqrt{\\sum_{i=1}^m\\sum_{j=1}^n|a_{ij}|^2}\n",
    "\\end{equation} \n",
    "\n",
    "This is just a measure of how big the matrix is, analagous to how big a vector is."
   ]
  },
  {
   "cell_type": "markdown",
   "metadata": {},
   "source": [
    " **Hint:** Use functions `model.parameters()` or `model.named_parameters()`\n"
   ]
  },
  {
   "cell_type": "code",
   "execution_count": null,
   "metadata": {
    "colab": {
     "base_uri": "https://localhost:8080/"
    },
    "outputId": "efa21260-a180-450c-c3e5-aea09bcbfaa3"
   },
   "outputs": [],
   "source": [
    "def calculate_frobenius_norm(model):\n",
    "  ####################################################################\n",
    "  # Fill in all missing code below (...),\n",
    "  # then remove or comment the line below to test your function\n",
    "  raise NotImplementedError(\"Define `calculate_frobenius_norm` function\")\n",
    "  ####################################################################\n",
    "  norm = 0.0\n",
    "  # Sum the square of all parameters\n",
    "  for param in model.parameters():\n",
    "    norm += ...\n",
    "\n",
    "  # Take a square root of the sum of squares of all the parameters\n",
    "  norm = ...\n",
    "  return norm\n",
    "\n",
    "\n",
    "# Seed added for reproducibility\n",
    "set_seed(seed=SEED)\n",
    "\n",
    "## uncomment below to test your code\n",
    "# net = nn.Linear(10, 1)\n",
    "# print(f'Frobenius Norm of Single Linear Layer: {calculate_frobenius_norm(net)}')"
   ]
  },
  {
   "cell_type": "markdown",
   "metadata": {
    "colab": {
     "base_uri": "https://localhost:8080/"
    },
    "colab_type": "text",
    "outputId": "6e9e47e9-9161-446e-edc2-c5fd36497d20"
   },
   "source": [
    "[*Click for solution*](https://github.com/NeuromatchAcademy/course-content-dl/tree/main//tutorials/W1D5_Regularization/solutions/W1D5_Tutorial1_Solution_bcc74b44.py)\n",
    "\n"
   ]
  },
  {
   "cell_type": "markdown",
   "metadata": {},
   "source": [
    "```\n",
    "Random seed 2021 has been set.\n",
    "Frobenius Norm of Single Linear Layer: 0.6572162508964539\n",
    "```"
   ]
  },
  {
   "cell_type": "markdown",
   "metadata": {},
   "source": [
    "Apart from calculating the weight size for an entire model, we could also determine the weight size in every layer. For this, we can modify our `calculate_frobenius_norm` function as shown below. \n",
    "\n",
    "**Have a look how it works!!**"
   ]
  },
  {
   "cell_type": "code",
   "execution_count": null,
   "metadata": {
    "colab": {
     "base_uri": "https://localhost:8080/",
     "height": 464
    },
    "outputId": "cd727e13-25ad-47a6-9f46-4cd2450266e9"
   },
   "outputs": [],
   "source": [
    "# Frobenius Norm per Layer\n",
    "def calculate_frobenius_norm(model):\n",
    "\n",
    "  # initialization of variables\n",
    "  norm, ws, labels = 0.0, [], []\n",
    "\n",
    "  # Sum all the parameters\n",
    "  for name, parameters in model.named_parameters():\n",
    "    p = torch.sum(parameters**2)\n",
    "    norm += p\n",
    "\n",
    "    ws.append((p**0.5).cpu().detach().numpy())\n",
    "    labels.append(name)\n",
    "\n",
    "  # Take a square root of the sum of squares of all the parameters\n",
    "  norm = (norm**0.5).cpu().detach().numpy()\n",
    "\n",
    "  return norm, ws, labels\n",
    "\n",
    "\n",
    "set_seed(SEED)\n",
    "net = nn.Linear(10,1)\n",
    "norm, ws, labels = calculate_frobenius_norm(net)\n",
    "print(f'Frobenius Norm of Single Linear Layer: {norm:.4f}')\n",
    "# Plots the weights\n",
    "plot_weights(norm, labels, ws)"
   ]
  },
  {
   "cell_type": "markdown",
   "metadata": {},
   "source": [
    "Using the last function `calculate_frobenius_norm`, we can also obtain the Frobenius Norm per layer for a whole NN model and use the `plot_weigts` function to visualize them."
   ]
  },
  {
   "cell_type": "code",
   "execution_count": null,
   "metadata": {
    "colab": {
     "base_uri": "https://localhost:8080/",
     "height": 447
    },
    "outputId": "52987671-4c41-4f10-f0ad-e50f99346afe"
   },
   "outputs": [],
   "source": [
    "# Creates a new model\n",
    "model = AnimalNet()\n",
    "\n",
    "# Calculates the forbenius norm per layer\n",
    "norm, ws, labels = calculate_frobenius_norm(model)\n",
    "print(f'Frobenius Norm of Models weights: {norm:.4f}')\n",
    "\n",
    "# Plots the weights\n",
    "plot_weights(norm, labels, ws)"
   ]
  },
  {
   "cell_type": "markdown",
   "metadata": {},
   "source": [
    "---\n",
    "#Section 2: Overfitting\n"
   ]
  },
  {
   "cell_type": "markdown",
   "metadata": {},
   "source": [
    "##  Video 3: Overparameterization and Overfitting\n"
   ]
  },
  {
   "cell_type": "code",
   "execution_count": null,
   "metadata": {
    "cellView": "form",
    "colab": {
     "base_uri": "https://localhost:8080/",
     "height": 580,
     "referenced_widgets": [
      "dd3268f112c74c85b7cb250f99a27b37",
      "79ebd6aa45be4652ac41ab3b83823736",
      "8ff8d05487d24e899449ae2eadde0940",
      "1d4644d380b74ea38a61e4a69c4e6cf2",
      "418f49b54ec14e04979b850ec32991de",
      "992ebdf1eebc4229bf4c27b631d25a5b"
     ]
    },
    "outputId": "b15d75a2-1ebb-4332-cc11-0b988d1ce827",
    "tags": [
     "remove-input"
    ]
   },
   "outputs": [],
   "source": [
    "#@title Video 3: Overparameterization and Overfitting\n",
    "from ipywidgets import widgets\n",
    "\n",
    "out2 = widgets.Output()\n",
    "with out2:\n",
    "  from IPython.display import IFrame\n",
    "  class BiliVideo(IFrame):\n",
    "      def __init__(self, id, page=1, width=400, height=300, **kwargs):\n",
    "          self.id=id\n",
    "          src = \"https://player.bilibili.com/player.html?bvid={0}&page={1}\".format(id, page)\n",
    "          super(BiliVideo, self).__init__(src, width, height, **kwargs)\n",
    "\n",
    "  video = BiliVideo(id=f\"\", width=730, height=410, fs=1)\n",
    "  print(\"Video available at https://www.bilibili.com/video/{0}\".format(video.id))\n",
    "  display(video)\n",
    "\n",
    "out1 = widgets.Output()\n",
    "with out1:\n",
    "  from IPython.display import YouTubeVideo\n",
    "  video = YouTubeVideo(id=f\"-HJ_9HxY38g\", width=730, height=410, fs=1, rel=0)\n",
    "  print(\"Video available at https://youtube.com/watch?v=\" + video.id)\n",
    "  display(video)\n",
    "\n",
    "out = widgets.Tab([out1, out2])\n",
    "out.set_title(0, 'Youtube')\n",
    "out.set_title(1, 'Bilibili')\n",
    "\n",
    "display(out)"
   ]
  },
  {
   "cell_type": "markdown",
   "metadata": {},
   "source": [
    "## Section 2.1: Visualizing Overfitting\n",
    "\n"
   ]
  },
  {
   "cell_type": "markdown",
   "metadata": {},
   "source": [
    "Let's create some synthetic dataset that we will use to illustrate overfitting in neural networks."
   ]
  },
  {
   "cell_type": "code",
   "execution_count": null,
   "metadata": {
    "colab": {
     "base_uri": "https://localhost:8080/",
     "height": 430
    },
    "outputId": "cb05e133-842b-4b86-ec12-93338fd70673"
   },
   "outputs": [],
   "source": [
    "# creating train data\n",
    "# input\n",
    "X = torch.rand((10, 1))\n",
    "# output\n",
    "Y = 2*X + 2*torch.empty((X.shape[0], 1)).normal_(mean=0, std=1)  # adding small error in the data\n",
    "\n",
    "#visualizing trian data\n",
    "plt.figure(figsize=(8, 6))\n",
    "plt.scatter(X.numpy(),Y.numpy())\n",
    "plt.xlabel('input (x)')\n",
    "plt.ylabel('output(y)')\n",
    "plt.title('toy dataset')\n",
    "plt.show()\n",
    "\n",
    "#creating test dataset\n",
    "X_test = torch.linspace(0, 1, 40)\n",
    "X_test = X_test.reshape((40, 1, 1))"
   ]
  },
  {
   "cell_type": "markdown",
   "metadata": {},
   "source": [
    "Let's create an overparametrized Neural Network that can fit on the dataset that we just created and train it. \n",
    "\n",
    "First, let's build the model architecture:"
   ]
  },
  {
   "cell_type": "code",
   "execution_count": null,
   "metadata": {},
   "outputs": [],
   "source": [
    "# Network Class - 2D\n",
    "class Net(nn.Module):\n",
    "  def __init__(self):\n",
    "    super(Net, self).__init__()\n",
    "\n",
    "    self.fc1 = nn.Linear(1, 300)\n",
    "    self.fc2 = nn.Linear(300, 500)\n",
    "    self.fc3 = nn.Linear(500, 1)\n",
    "\n",
    "  def forward(self, x):\n",
    "    x = F.leaky_relu(self.fc1(x))\n",
    "    x = F.leaky_relu(self.fc2(x))\n",
    "    output = self.fc3(x)\n",
    "    return output"
   ]
  },
  {
   "cell_type": "markdown",
   "metadata": {},
   "source": [
    "Next, let's define the different parameters for training our model:\n"
   ]
  },
  {
   "cell_type": "code",
   "execution_count": null,
   "metadata": {},
   "outputs": [],
   "source": [
    "# train the network on toy dataset\n",
    "model = Net()\n",
    "\n",
    "criterion = nn.MSELoss()\n",
    "optimizer = optim.Adam(model.parameters(), lr = 1e-4)\n",
    "\n",
    "iters = 0\n",
    "# Calculates frobenius before training\n",
    "normi, wsi, label = calculate_frobenius_norm(model)"
   ]
  },
  {
   "cell_type": "markdown",
   "metadata": {},
   "source": [
    "At this point, we can now train our model."
   ]
  },
  {
   "cell_type": "code",
   "execution_count": null,
   "metadata": {
    "colab": {
     "base_uri": "https://localhost:8080/",
     "height": 66,
     "referenced_widgets": [
      "ee98b25345f5469b86ccb1e253f2bb0c",
      "a3d9d685370e453daac5bc9d4a388a90",
      "0d7fbb17745944758679cb27f6a007bc",
      "f89156a5fca24bcfa55662aed8219b46",
      "332b9ad9b5f8439a871e2c90f373cdae",
      "a0a4e22fea214a8e8032919ad96d598e",
      "ab5833f3ddef4e6590382d84b7257424",
      "186c1eee1a4d4323b21cb2a4243ba64e"
     ]
    },
    "outputId": "0374ae4e-386c-4ba9-f6b8-8b49fd8fc522"
   },
   "outputs": [],
   "source": [
    "# initializing variables\n",
    "\n",
    "# losses\n",
    "train_loss = []\n",
    "test_loss = []\n",
    "# model norm\n",
    "model_norm = []\n",
    "# Initializing variables to store weights\n",
    "norm_per_layer = []\n",
    "\n",
    "max_epochs = 10000\n",
    "\n",
    "running_predictions = np.empty((40, int(max_epochs / 500 + 1)))\n",
    "\n",
    "for epoch in tqdm(range(max_epochs)):\n",
    "  # frobenius norm per epoch\n",
    "  norm, pl, layer_names = calculate_frobenius_norm(model)\n",
    "\n",
    "  # training\n",
    "  model_norm.append(norm)\n",
    "  norm_per_layer.append(pl)\n",
    "  model.train()\n",
    "  optimizer.zero_grad()\n",
    "  predictions = model(X)\n",
    "  loss = criterion(predictions, Y)\n",
    "  loss.backward()\n",
    "  optimizer.step()\n",
    "\n",
    "  train_loss.append(loss.data)\n",
    "  model.eval()\n",
    "  Y_test = model(X_test)\n",
    "  loss = criterion(Y_test, 2*X_test)\n",
    "  test_loss.append(loss.data)\n",
    "\n",
    "  if (epoch % 500 == 0 or epoch == max_epochs - 1):\n",
    "    running_predictions[:, iters] = Y_test[:, 0, 0].detach().numpy()\n",
    "    iters += 1"
   ]
  },
  {
   "cell_type": "markdown",
   "metadata": {},
   "source": [
    "Now that we have finished training, let's see how the model has evolved over the training process."
   ]
  },
  {
   "cell_type": "markdown",
   "metadata": {},
   "source": [
    "###  Animation (Run Me!)\n"
   ]
  },
  {
   "cell_type": "code",
   "execution_count": null,
   "metadata": {
    "cellView": "form",
    "colab": {
     "base_uri": "https://localhost:8080/",
     "height": 381
    },
    "outputId": "2b8b3da8-53cb-425e-f546-37963148c932",
    "tags": [
     "hide-input"
    ]
   },
   "outputs": [],
   "source": [
    "#@title Animation (Run Me!)\n",
    "\n",
    "# create a figure and axes\n",
    "fig = plt.figure(figsize=(14, 5))\n",
    "ax1 = plt.subplot(121)\n",
    "ax2 = plt.subplot(122)\n",
    "# organizing subplots\n",
    "plot1, = ax1.plot([],[])\n",
    "plot2 = ax2.bar([], [])\n",
    "\n",
    "\n",
    "def frame(i):\n",
    "  ax1.clear()\n",
    "  title1 = ax1.set_title('')\n",
    "  ax1.set_xlabel(\"Input(x)\")\n",
    "  ax1.set_ylabel(\"Output(y)\")\n",
    "\n",
    "  ax2.clear()\n",
    "  ax2.set_xlabel('Layer names')\n",
    "  ax2.set_ylabel('Frobenius norm')\n",
    "  title2 = ax2.set_title('Weight Measurement: Forbenius Norm')\n",
    "\n",
    "  ax1.scatter(X.numpy(),Y.numpy())\n",
    "  plot1 = ax1.plot(X_test[:,0,:].detach().numpy(), running_predictions[:,i])\n",
    "  title1.set_text(f'Epochs: {i * 500}')\n",
    "  plot2 = ax2.bar(label, norm_per_layer[i*500])\n",
    "  plt.axhline(y=model_norm[i*500], linewidth=1,\n",
    "              color='r', ls='--',\n",
    "              label=f'Norm: {model_norm[i*500]:.2f}')\n",
    "  plt.legend()\n",
    "\n",
    "  return plot1, plot2\n",
    "\n",
    "\n",
    "anim = animation.FuncAnimation(fig, frame, frames=range(20),\n",
    "                               blit=False, repeat=False, repeat_delay=10000)\n",
    "html_anim = HTML(anim.to_html5_video());\n",
    "plt.close()\n",
    "display(html_anim)"
   ]
  },
  {
   "cell_type": "markdown",
   "metadata": {},
   "source": [
    "###  Plot the train and test losses\n"
   ]
  },
  {
   "cell_type": "code",
   "execution_count": null,
   "metadata": {
    "cellView": "form",
    "colab": {
     "base_uri": "https://localhost:8080/",
     "height": 430
    },
    "outputId": "8ea193c7-c704-4da7-8752-46d0c086cc67",
    "tags": [
     "hide-input"
    ]
   },
   "outputs": [],
   "source": [
    "#@title Plot the train and test losses\n",
    "plt.figure(figsize=(8, 6))\n",
    "plt.plot(train_loss,label='train_loss')\n",
    "plt.plot(test_loss,label='test_loss')\n",
    "plt.ylabel('loss')\n",
    "plt.xlabel('epochs')\n",
    "plt.title('loss vs epoch')\n",
    "plt.legend()\n",
    "plt.show()"
   ]
  },
  {
   "cell_type": "markdown",
   "metadata": {},
   "source": [
    "### Think! 2.1: Interpreting losses\n",
    "\n",
    "Regarding the train and test graph above, discuss among yourselves:\n",
    "\n",
    "*   What trend do you see w.r.t to train and test losses ( Where do you see the minimum of these losses?)\n",
    "*   What does it tell us about the model we trained?\n",
    "\n",
    "  \n"
   ]
  },
  {
   "cell_type": "markdown",
   "metadata": {
    "colab": {
     "base_uri": "https://localhost:8080/",
     "height": 69
    },
    "colab_type": "text",
    "outputId": "a6902e8b-df60-42d6-dea3-ae324ed5ef27"
   },
   "source": [
    "[*Click for solution*](https://github.com/NeuromatchAcademy/course-content-dl/tree/main//tutorials/W1D5_Regularization/solutions/W1D5_Tutorial1_Solution_141a7a50.py)\n",
    "\n"
   ]
  },
  {
   "cell_type": "markdown",
   "metadata": {},
   "source": [
    "Now let's visualize the Frobenious norm of the model as we trained. You should see that the value of weights increases over the epochs."
   ]
  },
  {
   "cell_type": "markdown",
   "metadata": {},
   "source": [
    "####  Frobenious norm of the model\n"
   ]
  },
  {
   "cell_type": "code",
   "execution_count": null,
   "metadata": {
    "cellView": "form",
    "colab": {
     "base_uri": "https://localhost:8080/",
     "height": 430
    },
    "outputId": "73779824-8a91-463d-a452-12e2a245bf8d",
    "tags": [
     "hide-input"
    ]
   },
   "outputs": [],
   "source": [
    "#@title Frobenious norm of the model\n",
    "plt.figure(figsize=(8, 6))\n",
    "plt.plot(model_norm)\n",
    "plt.ylabel('norm of the model')\n",
    "plt.xlabel('epochs')\n",
    "plt.title('Size of the model vs Epochs')  # Change title to Frobenious norm of the model\n",
    "plt.show()"
   ]
  },
  {
   "cell_type": "markdown",
   "metadata": {},
   "source": [
    "Finally, you can compare the Frobenius norm per layer in the model, before and after training."
   ]
  },
  {
   "cell_type": "markdown",
   "metadata": {},
   "source": [
    "####  Frobenius norm per layer before and after training\n"
   ]
  },
  {
   "cell_type": "code",
   "execution_count": null,
   "metadata": {
    "cellView": "form",
    "colab": {
     "base_uri": "https://localhost:8080/",
     "height": 843
    },
    "outputId": "50d3ceff-d231-49dc-ddd4-2ffa11703778",
    "tags": [
     "hide-input"
    ]
   },
   "outputs": [],
   "source": [
    "#@title Frobenius norm per layer before and after training\n",
    "normf, wsf, label = calculate_frobenius_norm(model)\n",
    "\n",
    "plot_weights(float(normi), label, wsi, title='Weight Size Before Training')\n",
    "plot_weights(float(normf), label, wsf, title='Weight Size After Training')"
   ]
  },
  {
   "cell_type": "markdown",
   "metadata": {},
   "source": [
    "## Section 2.2: Overfitting on Test Dataset\n",
    "\n",
    "\n",
    "In principle we should not touch our test set until after we have chosen all our hyperparameters. Were we to use the test data in the model selection process, there is a risk that we might overfit the test data. Then we would be in serious trouble. If we overfit our training data, there is always the evaluation on test data to keep us honest. But if we overfit the test data, how would we ever know?\n",
    "\n",
    "Note that there is another kind of overfitting: you do \"honest\" fitting on one set of images or posts, or medical records, but it may not generalize to other sets of images, posts or medical records.\n"
   ]
  },
  {
   "cell_type": "markdown",
   "metadata": {},
   "source": [
    "#### Validation Dataset\n",
    "A common practice to address this problem is to split our data in three ways, using a validation dataset (or validation set) to tune the hyperparameters. Ideally, we would only touch the test data once, to assess the very best model or to compare a small number of models to each other, real-world test data is seldom discarded after just one use.\n",
    "\n"
   ]
  },
  {
   "cell_type": "markdown",
   "metadata": {},
   "source": [
    "---\n",
    "# Section 3: Memorization\n"
   ]
  },
  {
   "cell_type": "markdown",
   "metadata": {},
   "source": [
    "Given sufficiently large networks and enough training, Neural Networks can acheive almost 100% train accuracy.\n",
    "\n",
    "In this section we train three MLPs; one each on:\n",
    "\n",
    "\n",
    "1.   Animal Faces Dataset\n",
    "2.   A Completely Noisy Dataset (Random Shuffling of all labels)\n",
    "3.   A partially Noisy Dataset (Random Shuffling of 15% labels)\n"
   ]
  },
  {
   "cell_type": "markdown",
   "metadata": {},
   "source": [
    "Now, think for a couple of minutes as to what the train and test accuracies of each of these models might be, given that you train for sufficient time and use a powerful network."
   ]
  },
  {
   "cell_type": "markdown",
   "metadata": {},
   "source": [
    "First, let's create the required dataloaders for all three datasets. Notice how we split the data. We train on a fraction of the dataset as it will be faster to train and will overfit more clearly."
   ]
  },
  {
   "cell_type": "code",
   "execution_count": null,
   "metadata": {
    "colab": {
     "base_uri": "https://localhost:8080/"
    },
    "outputId": "b87dac64-8620-483f-b72d-95307f647ea3"
   },
   "outputs": [],
   "source": [
    "# Dataloaders for the Dataset\n",
    "batch_size = 128\n",
    "classes = ('cat', 'dog', 'wild')\n",
    "\n",
    "# defining number of examples for train, val test\n",
    "len_train, len_val, len_test = 100, 100, 14430\n",
    "\n",
    "train_transform = transforms.Compose([\n",
    "     transforms.ToTensor(),\n",
    "     transforms.Normalize((0.5, 0.5, 0.5), (0.5, 0.5, 0.5))\n",
    "     ])\n",
    "data_path = pathlib.Path('.')/'afhq'  # using pathlib to be compatible with all OS's\n",
    "img_dataset = ImageFolder(data_path/'train', transform=train_transform)\n",
    "\n",
    "# For reproducibility\n",
    "g = torch.Generator()\n",
    "g.manual_seed(SEED)"
   ]
  },
  {
   "cell_type": "code",
   "execution_count": null,
   "metadata": {},
   "outputs": [],
   "source": [
    "# Dataloaders for the Original Dataset\n",
    "\n",
    "img_train_data, img_val_data,_ = torch.utils.data.random_split(img_dataset,\n",
    "                                                               [len_train,\n",
    "                                                                len_val,\n",
    "                                                                len_test])\n",
    "\n",
    "# Creating train_loader and Val_loader\n",
    "train_loader = torch.utils.data.DataLoader(img_train_data,\n",
    "                                           batch_size=batch_size,\n",
    "                                           worker_init_fn=seed_worker,\n",
    "                                           generator=g)\n",
    "\n",
    "val_loader = torch.utils.data.DataLoader(img_val_data,\n",
    "                                         batch_size=1000,\n",
    "                                         worker_init_fn=seed_worker,\n",
    "                                         generator=g)"
   ]
  },
  {
   "cell_type": "code",
   "execution_count": null,
   "metadata": {},
   "outputs": [],
   "source": [
    "# Dataloaders for the Random Dataset\n",
    "\n",
    "# splitting randomized data into training and validation data\n",
    "data_path = pathlib.Path('.')/'afhq_random_32x32/afhq_random' # using pathlib to be compatible with all OS's\n",
    "img_dataset = ImageFolder(data_path/'train', transform=train_transform)\n",
    "random_img_train_data, random_img_val_data,_ = torch.utils.data.random_split(img_dataset, [len_train, len_val, len_test])\n",
    "\n",
    "# Randomized train and validation dataloader\n",
    "rand_train_loader = torch.utils.data.DataLoader(random_img_train_data,\n",
    "                                                batch_size=batch_size,\n",
    "                                                num_workers=0,\n",
    "                                                worker_init_fn=seed_worker,\n",
    "                                                generator=g)\n",
    "\n",
    "rand_val_loader = torch.utils.data.DataLoader(random_img_val_data,\n",
    "                                              batch_size=1000,\n",
    "                                              num_workers=0,\n",
    "                                              worker_init_fn=seed_worker,\n",
    "                                              generator=g)"
   ]
  },
  {
   "cell_type": "code",
   "execution_count": null,
   "metadata": {},
   "outputs": [],
   "source": [
    "# Dataloaders for the Partially Random Dataset\n",
    "\n",
    "# Splitting data between training and validation dataset for partially randomized data\n",
    "data_path = pathlib.Path('.')/'afhq_10_32x32/afhq_10' # using pathlib to be compatible with all OS's\n",
    "img_dataset = ImageFolder(data_path/'train', transform=train_transform)\n",
    "partially_random_train_data, partially_random_val_data,_ = torch.utils.data.random_split(img_dataset, [len_train, len_val, len_test])\n",
    "\n",
    "# Training and Validation loader for partially randomized data\n",
    "partial_rand_train_loader = torch.utils.data.DataLoader(partially_random_train_data,\n",
    "                                                        batch_size=batch_size,\n",
    "                                                        num_workers=0,\n",
    "                                                        worker_init_fn=seed_worker,\n",
    "                                                        generator=g)\n",
    "\n",
    "partial_rand_val_loader = torch.utils.data.DataLoader(partially_random_val_data,\n",
    "                                                      batch_size=1000,\n",
    "                                                      num_workers=0,\n",
    "                                                      worker_init_fn=seed_worker,\n",
    "                                                      generator=g)"
   ]
  },
  {
   "cell_type": "markdown",
   "metadata": {},
   "source": [
    "Now let's define a model which has many parameters compared to the training dataset size, and train it on these datasets."
   ]
  },
  {
   "cell_type": "code",
   "execution_count": null,
   "metadata": {},
   "outputs": [],
   "source": [
    "# Network Class - Animal Faces\n",
    "class BigAnimalNet(nn.Module):\n",
    "  def __init__(self):\n",
    "    super(BigAnimalNet, self).__init__()\n",
    "    self.fc1 = nn.Linear(3*32*32, 124)\n",
    "    self.fc2 = nn.Linear(124, 64)\n",
    "    self.fc3 = nn.Linear(64, 3)\n",
    "\n",
    "  def forward(self, x):\n",
    "    x = x.view(x.shape[0], -1)\n",
    "    x = F.leaky_relu(self.fc1(x))\n",
    "    x = F.leaky_relu(self.fc2(x))\n",
    "    x = self.fc3(x)\n",
    "    output = F.log_softmax(x, dim=1)\n",
    "    return output"
   ]
  },
  {
   "cell_type": "markdown",
   "metadata": {},
   "source": [
    "Before training our `BigAnimalNet()`, calculate the Frobenius norm again."
   ]
  },
  {
   "cell_type": "code",
   "execution_count": null,
   "metadata": {},
   "outputs": [],
   "source": [
    "model = BigAnimalNet()\n",
    "normi, wsi, label = calculate_frobenius_norm(model)"
   ]
  },
  {
   "cell_type": "markdown",
   "metadata": {},
   "source": [
    "Now, train our `BigAnimalNet()` model"
   ]
  },
  {
   "cell_type": "code",
   "execution_count": null,
   "metadata": {
    "colab": {
     "base_uri": "https://localhost:8080/",
     "height": 513,
     "referenced_widgets": [
      "8e9aafb7ecd8477d9e588c0f068c1bc8",
      "f58b3e1ca8164383b491ae9f3e3d5bb2",
      "b497c56dece945eeb8fe8e36de6012ff",
      "ff9c030e35364e3e8be5ccd155a3ae87",
      "d735f116e01e43afaddff27834b767af",
      "0636100925c84c9496880670a92dbb14",
      "2a064a1749bf484d960e79289a8ea709",
      "eaf3a30f20e14ca6acb8358b34fa9f94"
     ]
    },
    "outputId": "345a7920-40ac-485a-a1cc-2e2424774cd6"
   },
   "outputs": [],
   "source": [
    "# Here we have 100 true train data.\n",
    "\n",
    "args = {\n",
    "    'epochs': 200,\n",
    "    'lr': 5e-3,\n",
    "    'momentum': 0.9,\n",
    "    'no_cuda': False,\n",
    "}\n",
    "\n",
    "acc_dict = {}\n",
    "\n",
    "start_time = time.time()\n",
    "val_acc_pure, train_acc_pure, _, model ,_ = main(args=args,\n",
    "                                                 model=model,\n",
    "                                                 train_loader=train_loader,\n",
    "                                                 val_loader=val_loader)\n",
    "end_time = time.time()\n",
    "\n",
    "print(\"Time to memorize the dataset:\",end_time - start_time)\n",
    "\n",
    "# # Train and Test accuracy plot\n",
    "plt.figure(figsize=(8, 6))\n",
    "plt.plot(val_acc_pure, label='Val Accuracy Pure', c='red', ls='dashed')\n",
    "plt.plot(train_acc_pure, label='Train Accuracy Pure', c='red', ls='solid')\n",
    "plt.axhline(y=max(val_acc_pure), c='green', ls='dashed',\n",
    "            label='max Val accuracy pure')\n",
    "plt.title('Memorization')\n",
    "plt.ylabel('Accuracy (%)')\n",
    "plt.xlabel('Epoch')\n",
    "plt.legend()\n",
    "plt.show()"
   ]
  },
  {
   "cell_type": "markdown",
   "metadata": {},
   "source": [
    " #### Frobenius norm for AnimalNet before and after training\n"
   ]
  },
  {
   "cell_type": "code",
   "execution_count": null,
   "metadata": {
    "cellView": "form",
    "colab": {
     "base_uri": "https://localhost:8080/",
     "height": 843
    },
    "outputId": "1fc5a0e1-9f89-4e12-ed41-cd7d54c82419",
    "tags": [
     "hide-input"
    ]
   },
   "outputs": [],
   "source": [
    "#@markdown #### Frobenius norm for AnimalNet before and after training\n",
    "normf, wsf, label = calculate_frobenius_norm(model)\n",
    "\n",
    "plot_weights(float(normi), label, wsi, title='Weight Size Before Training')\n",
    "plot_weights(float(normf), label, wsf, title='Weight Size After Training')"
   ]
  },
  {
   "cell_type": "markdown",
   "metadata": {},
   "source": [
    "##Coding Exercise 2: Data Visualizer\n",
    "Before we train the model on a data with random labels, let's visualize and verify for ourselves that the data is random. Here, we have classes = (\"cat\", \"dog\", \"wild\"). \n",
    "\n",
    "**Hint:** Use `.permute()` method. `plt.imshow()` expects imput to be in numpy format and in the format (Px, Py, 3), where Px and Py are the number of pixels along axis x and y respectively."
   ]
  },
  {
   "cell_type": "code",
   "execution_count": null,
   "metadata": {},
   "outputs": [],
   "source": [
    "def visualize_data(dataloader):\n",
    "  ####################################################################\n",
    "  # Fill in all missing code below (...),\n",
    "  # then remove or comment the line below to test your function\n",
    "  # The dataloader here gives out mini batches of 100 data points.\n",
    "  raise NotImplementedError(\"Complete the Visualize_random_data function\")\n",
    "  ####################################################################\n",
    "\n",
    "  for idx, (data,label) in enumerate(dataloader):\n",
    "    plt.figure(idx)\n",
    "    # Choose the datapoint you would like to visualize\n",
    "    index = ...\n",
    "\n",
    "    # choose that datapoint using index and permute the dimensions\n",
    "    # and bring the pixel values between [0,1]\n",
    "    data = ...\n",
    "\n",
    "    # Convert the torch tensor into numpy\n",
    "    data = ...\n",
    "\n",
    "    plt.imshow(data)\n",
    "    plt.axis(False)\n",
    "    image_class = classes[...]\n",
    "    print(f'The image belongs to : {image_class}')\n",
    "\n",
    "  plt.show()\n",
    "\n",
    "\n",
    "## uncomment to run the function\n",
    "# visualize_data(rand_train_loader)"
   ]
  },
  {
   "cell_type": "markdown",
   "metadata": {
    "colab": {
     "base_uri": "https://localhost:8080/",
     "height": 450
    },
    "colab_type": "text",
    "outputId": "b1cbf0d0-e049-4fab-9187-86a04eb809fa"
   },
   "source": [
    "[*Click for solution*](https://github.com/NeuromatchAcademy/course-content-dl/tree/main//tutorials/W1D5_Regularization/solutions/W1D5_Tutorial1_Solution_83bd9281.py)\n",
    "\n",
    "*Example output:*\n",
    "\n",
    "<img alt='Solution hint' align='left' width=832.0 height=832.0 src=https://raw.githubusercontent.com/NeuromatchAcademy/course-content-dl/main/tutorials/W1D5_Regularization/static/W1D5_Tutorial1_Solution_83bd9281_1.png>\n",
    "\n"
   ]
  },
  {
   "cell_type": "markdown",
   "metadata": {},
   "source": [
    "Now let's train the network on the shuffled data and see if it memorizes."
   ]
  },
  {
   "cell_type": "code",
   "execution_count": null,
   "metadata": {
    "colab": {
     "base_uri": "https://localhost:8080/",
     "height": 496,
     "referenced_widgets": [
      "67a9f8d69fa341ddb9a84c797b2eaaf4",
      "b1d0fcf10d3d45f79bd1f41e17a5ce00",
      "e21623a08f7745c9a411260f4e86ef10",
      "3e766e2673f2495bb129a9b285be0ab4",
      "0e1670c6e97247ceac05bc566c6b0d3c",
      "8a9f4615bd7a46df92d3b8a158514c66",
      "97f7df955a844a8695725e7c2b8a64a2",
      "37a25fe9eaa046ef9ffce5e3c544fe60"
     ]
    },
    "outputId": "a8959d07-2a2f-4829-d15b-aa040e92150f"
   },
   "outputs": [],
   "source": [
    "# Here we have 100 completely shuffled train data.\n",
    "args = {\n",
    "    'epochs': 200,\n",
    "    'lr': 5e-3,\n",
    "    'momentum': 0.9,\n",
    "    'no_cuda': False\n",
    "}\n",
    "\n",
    "acc_dict = {}\n",
    "model = BigAnimalNet()\n",
    "\n",
    "\n",
    "val_acc_random, train_acc_random, _,model,_ = main(args,\n",
    "                                                   model,\n",
    "                                                   rand_train_loader,\n",
    "                                                   val_loader)\n",
    "\n",
    "# Train and Test accuracy plot\n",
    "plt.figure(figsize=(8, 6))\n",
    "plt.plot(val_acc_random, label='Val Accuracy random', c='red', ls='dashed')\n",
    "plt.plot(train_acc_random, label='Train Accuracy random', c='red', ls='solid')\n",
    "plt.axhline(y=max(val_acc_random), c='green', ls='dashed', label='Max Val Accuracy random')\n",
    "plt.title('Memorization')\n",
    "plt.ylabel('Accuracy (%)')\n",
    "plt.xlabel('Epoch')\n",
    "plt.legend()\n",
    "plt.show()"
   ]
  },
  {
   "cell_type": "markdown",
   "metadata": {},
   "source": [
    "Finally lets train on a partially shuffled dataset where 15% of the labels are noisy."
   ]
  },
  {
   "cell_type": "code",
   "execution_count": null,
   "metadata": {
    "colab": {
     "base_uri": "https://localhost:8080/",
     "height": 496,
     "referenced_widgets": [
      "7c671d96835c4a06847faa3230530143",
      "48562f98bbe04f0dab95279d4b5c252f",
      "95ac93585197430b9f3d8ce9ac85b7fd",
      "7eedcc06eddd438a98cefc1a37e991ce",
      "f07b2d75822a42b7a8174728d33876f8",
      "50d2ba679c754b3eb9dba649fa07ba92",
      "cbd81bc5419e49eab7becf4ab4035d9d",
      "1a151f49ad59412985de47325376acdc"
     ]
    },
    "outputId": "68f852af-1cd5-493c-f0d4-41622d9d3bb5"
   },
   "outputs": [],
   "source": [
    "# Here we have 100 partially shuffled train data.\n",
    "args = {\n",
    "    'epochs': 200,\n",
    "    'lr': 5e-3,\n",
    "    'momentum': 0.9,\n",
    "    'no_cuda': False,\n",
    "}\n",
    "\n",
    "acc_dict = {}\n",
    "model = BigAnimalNet()\n",
    "\n",
    "\n",
    "val_acc_shuffle, train_acc_shuffle, _,_,_ = main(args,\n",
    "                                                 model,\n",
    "                                                 partial_rand_train_loader,\n",
    "                                                 val_loader)\n",
    "\n",
    "# train and test acc plot\n",
    "plt.figure(figsize=(8, 6))\n",
    "plt.plot(val_acc_shuffle, label='Val Accuracy shuffle', c='red', ls='dashed')\n",
    "plt.plot(train_acc_shuffle, label='Train Accuracy shuffle', c='red', ls='solid')\n",
    "plt.axhline(y=max(val_acc_shuffle), c='green', ls='dashed', label='Max Val Accuracy shuffle')\n",
    "plt.title('Memorization')\n",
    "plt.ylabel('Accuracy (%)')\n",
    "plt.xlabel('Epoch')\n",
    "plt.legend()\n",
    "plt.show()"
   ]
  },
  {
   "cell_type": "markdown",
   "metadata": {},
   "source": [
    " #### Plotting them all together (Run Me!)\n"
   ]
  },
  {
   "cell_type": "code",
   "execution_count": null,
   "metadata": {
    "cellView": "form",
    "colab": {
     "base_uri": "https://localhost:8080/",
     "height": 430
    },
    "outputId": "521843e8-7d67-4d96-b3c6-5b5740469827",
    "tags": [
     "hide-input"
    ]
   },
   "outputs": [],
   "source": [
    "#@markdown #### Plotting them all together (Run Me!)\n",
    "plt.figure(figsize=(8, 6))\n",
    "plt.plot(val_acc_pure,label='Val - Pure',c='red',ls = 'dashed')\n",
    "plt.plot(train_acc_pure,label='Train - Pure',c='red',ls = 'solid')\n",
    "plt.plot(val_acc_random,label='Val - Random',c='blue',ls = 'dashed')\n",
    "plt.plot(train_acc_random,label='Train - Random',c='blue',ls = 'solid')\n",
    "plt.plot(val_acc_shuffle, label='Val - shuffle', c='y', ls='dashed')\n",
    "plt.plot(train_acc_shuffle, label='Train - shuffle', c='y', ls='solid')\n",
    "\n",
    "plt.title('Memorization')\n",
    "plt.ylabel('Accuracy (%)')\n",
    "plt.xlabel('Epoch')\n",
    "plt.legend()\n",
    "plt.show()"
   ]
  },
  {
   "cell_type": "markdown",
   "metadata": {},
   "source": [
    "## Think! 2: Does it Generalize?\n",
    "Given that the Neural Network fit/memorize the training data perfectly:\n",
    "\n",
    "*   Do you think it generalizes well?\n",
    "*   What makes you think it does or doesn't?\n"
   ]
  },
  {
   "cell_type": "markdown",
   "metadata": {
    "colab": {
     "base_uri": "https://localhost:8080/",
     "height": 35
    },
    "colab_type": "text",
    "outputId": "225c6608-1eb1-4f54-e47c-a715f6b997af"
   },
   "source": [
    "[*Click for solution*](https://github.com/NeuromatchAcademy/course-content-dl/tree/main//tutorials/W1D5_Regularization/solutions/W1D5_Tutorial1_Solution_8f1d49a8.py)\n",
    "\n"
   ]
  },
  {
   "cell_type": "markdown",
   "metadata": {},
   "source": [
    "Isn't it supprising to see that the NN was able to acheive 100% training accuracy on randomly shuffled labels? This is one of the reasons why training accuracy is not a good indicator of model performance. \n",
    "\n",
    "Also it is interesting to note that sometimes the model trained on slightly shuffled data does slightly better than the one trained on pure data.  Shuffling some of the data is a form of regularization--one of many ways of adding noise to the training data."
   ]
  },
  {
   "cell_type": "markdown",
   "metadata": {},
   "source": [
    "---\n",
    "# Section 4: Early Stopping\n"
   ]
  },
  {
   "cell_type": "markdown",
   "metadata": {},
   "source": [
    "##  Video 4: Early Stopping\n"
   ]
  },
  {
   "cell_type": "code",
   "execution_count": null,
   "metadata": {
    "cellView": "form",
    "colab": {
     "base_uri": "https://localhost:8080/",
     "height": 580,
     "referenced_widgets": [
      "722576fcdc0b4b248e8e25b7a06ec2e5",
      "3b78ba5744e04e01ae00259bbe670de2",
      "6a7b70b83a694f33876a6f22d5b64659",
      "645ffa4df2da4233a0a80d9e380d2fe9",
      "1ecf068194cf4710839f962122f6eba8",
      "f7de1551bb344d4eb55b577c38946a4e"
     ]
    },
    "outputId": "1299092d-7e0e-4c36-f854-79be23f9ccfe",
    "tags": [
     "remove-input"
    ]
   },
   "outputs": [],
   "source": [
    "#@title Video 4: Early Stopping\n",
    "from ipywidgets import widgets\n",
    "\n",
    "out2 = widgets.Output()\n",
    "with out2:\n",
    "  from IPython.display import IFrame\n",
    "  class BiliVideo(IFrame):\n",
    "      def __init__(self, id, page=1, width=400, height=300, **kwargs):\n",
    "          self.id=id\n",
    "          src = \"https://player.bilibili.com/player.html?bvid={0}&page={1}\".format(id, page)\n",
    "          super(BiliVideo, self).__init__(src, width, height, **kwargs)\n",
    "\n",
    "  video = BiliVideo(id=f\"\", width=730, height=410, fs=1)\n",
    "  print(\"Video available at https://www.bilibili.com/video/{0}\".format(video.id))\n",
    "  display(video)\n",
    "\n",
    "out1 = widgets.Output()\n",
    "with out1:\n",
    "  from IPython.display import YouTubeVideo\n",
    "  video = YouTubeVideo(id=f\"72IG2bX5l30\", width=730, height=410, fs=1, rel=0)\n",
    "  print(\"Video available at https://youtube.com/watch?v=\" + video.id)\n",
    "  display(video)\n",
    "\n",
    "out = widgets.Tab([out1, out2])\n",
    "out.set_title(0, 'Youtube')\n",
    "out.set_title(1, 'Bilibili')\n",
    "\n",
    "display(out)"
   ]
  },
  {
   "cell_type": "markdown",
   "metadata": {},
   "source": [
    "\n",
    "Now that we have established that the validation accuracy reaches the peak well before the model overfits, we want to somehow stop the training early. You should have also observed from the above plots that the train/test loss on real data is not very smooth and hence you might guess that the choice of epoch can play a very large role on the val/test accuracy of your model. \n",
    "\n",
    "Early stopping stops training when the validation accuracies stop increasing. \n",
    "\n",
    "<center><img src=\"https://images.deepai.org/glossary-terms/early-stopping-machine-learning-5422207.jpg\" alt=\"Overfitting\" width=\"600\"/></center>"
   ]
  },
  {
   "cell_type": "markdown",
   "metadata": {},
   "source": [
    "## Coding Exercise 3: Early Stopping\n",
    "Reimplement the main function to include early stopping as described above. Then run the code below to validate your implementation."
   ]
  },
  {
   "cell_type": "code",
   "execution_count": null,
   "metadata": {},
   "outputs": [],
   "source": [
    "def early_stopping_main(args, model, train_loader, val_loader):\n",
    "\n",
    "  ####################################################################\n",
    "  # Fill in all missing code below (...),\n",
    "  # then remove or comment the line below to test your function\n",
    "  raise NotImplementedError(\"Complete the early_stopping_main function\")\n",
    "  ####################################################################\n",
    "\n",
    "  use_cuda = not args['no_cuda'] and torch.cuda.is_available()\n",
    "  device = torch.device('cuda' if use_cuda else 'cpu')\n",
    "\n",
    "  model = model.to(device)\n",
    "  optimizer = optim.SGD(model.parameters(),\n",
    "                        lr=args['lr'],\n",
    "                        momentum=args['momentum'])\n",
    "\n",
    "  best_acc = 0.0\n",
    "  best_epoch = 0\n",
    "\n",
    "  # Number of successive epochs that you want to wait before stopping training process\n",
    "  patience = 20\n",
    "\n",
    "  # Keps track of number of epochs during which the val_acc was less than best_acc\n",
    "  wait = 0\n",
    "\n",
    "  val_acc_list, train_acc_list = [], []\n",
    "  for epoch in tqdm(range(args['epochs'])):\n",
    "\n",
    "    # train the model\n",
    "    ...\n",
    "\n",
    "    # calculate training accuracy\n",
    "    train_acc = ...\n",
    "\n",
    "    # calculate validation accuracy\n",
    "    val_acc = ...\n",
    "\n",
    "    if (val_acc > best_acc):\n",
    "      best_acc = val_acc\n",
    "      best_epoch = epoch\n",
    "      best_model = copy.deepcopy(model)\n",
    "      wait = 0\n",
    "    else:\n",
    "      wait += 1\n",
    "\n",
    "    if (wait > patience):\n",
    "      print(f'early stopped on epoch: {epoch}')\n",
    "      break\n",
    "\n",
    "    train_acc_list.append(train_acc)\n",
    "    val_acc_list.append(val_acc)\n",
    "\n",
    "  return val_acc_list, train_acc_list, best_model, best_epoch\n",
    "\n",
    "\n",
    "args = {\n",
    "    'epochs': 200,\n",
    "    'lr': 5e-4,\n",
    "    'momentum': 0.99,\n",
    "    'no_cuda': False,\n",
    "}\n",
    "\n",
    "model = AnimalNet()\n",
    "\n",
    "## Uncomment to test\n",
    "# val_acc_earlystop, train_acc_earlystop, _, best_epoch = early_stopping_main(args, model, train_loader, val_loader)\n",
    "# print(f'Maximum Validation Accuracy is reached at epoch: {best_epoch:2d}')\n",
    "# early_stop_plot(train_acc_earlystop, val_acc_earlystop, best_epoch)"
   ]
  },
  {
   "cell_type": "markdown",
   "metadata": {
    "colab": {
     "base_uri": "https://localhost:8080/",
     "height": 516,
     "referenced_widgets": [
      "7e6a1d7a83fb49259ce2671bc6bcfbd1",
      "d4939737dcf24505b20c5c0491b0adad",
      "a86c5953e7a14f658b78c7be2ef3c8ef",
      "f24dff4beece4934a9bd412016c6d48b",
      "aa62d0b6a0a44add9e88423432180bc0",
      "3e8dd55f5f0541eeb58241a4f5651177",
      "3c7f4c743763471488db4c43d1b77b80",
      "841216b412f543cba6fd4cf53f55f1a9"
     ]
    },
    "colab_type": "text",
    "outputId": "dbca1606-0ee5-4fa5-9a71-2a42ac009f7b"
   },
   "source": [
    "[*Click for solution*](https://github.com/NeuromatchAcademy/course-content-dl/tree/main//tutorials/W1D5_Regularization/solutions/W1D5_Tutorial1_Solution_dd5edfb8.py)\n",
    "\n",
    "*Example output:*\n",
    "\n",
    "<img alt='Solution hint' align='left' width=1120.0 height=832.0 src=https://raw.githubusercontent.com/NeuromatchAcademy/course-content-dl/main/tutorials/W1D5_Regularization/static/W1D5_Tutorial1_Solution_dd5edfb8_2.png>\n",
    "\n"
   ]
  },
  {
   "cell_type": "markdown",
   "metadata": {},
   "source": [
    "## Think! 3: Early Stopping\n",
    "\n",
    "Discuss among your pod why or why not:\n",
    "\n",
    "*   Do you think early stopping can be harmful for training your network?"
   ]
  },
  {
   "cell_type": "markdown",
   "metadata": {
    "colab": {
     "base_uri": "https://localhost:8080/",
     "height": 35
    },
    "colab_type": "text",
    "outputId": "91aa95af-e29e-4a2b-b433-570d606f3d45"
   },
   "source": [
    "[*Click for solution*](https://github.com/NeuromatchAcademy/course-content-dl/tree/main//tutorials/W1D5_Regularization/solutions/W1D5_Tutorial1_Solution_683d27d3.py)\n",
    "\n"
   ]
  }
 ],
 "metadata": {
  "accelerator": "GPU",
  "colab": {
   "collapsed_sections": [
    "-PhV30moDGBj",
    "-ERb6jj0DGBj",
    "ZbHrMPJgDGBl",
    "ZK-TtZj2DGBy"
   ],
   "include_colab_link": true,
   "machine_shape": "hm",
   "name": "W1D5_Tutorial1",
   "provenance": [],
   "toc_visible": true
  },
  "kernel": {
   "display_name": "Python 3",
   "language": "python",
   "name": "python3"
  },
  "kernelspec": {
   "display_name": "Python 3",
   "name": "python3"
  }
 },
 "nbformat": 4,
 "nbformat_minor": 0
}